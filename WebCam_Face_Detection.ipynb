{
 "cells": [
  {
   "cell_type": "code",
   "execution_count": 3,
   "id": "7fe652db-aad9-4f88-b473-d91582fba92b",
   "metadata": {},
   "outputs": [],
   "source": [
    "# Libraries needed for WebCam Face_Detection.\n",
    "import cv2\n",
    "import os\n",
    "import numpy as np\n",
    "import torch\n",
    "from PIL import Image\n",
    "from facenet_pytorch import InceptionResnetV1,MTCNN\n",
    "import sqlite3\n",
    "from scipy.spatial.distance import euclidean"
   ]
  },
  {
   "cell_type": "code",
   "execution_count": 4,
   "id": "ca09e903-a10b-40ee-a5ec-0a4cea6431f2",
   "metadata": {},
   "outputs": [
    {
     "data": {
      "text/plain": [
       "'C:\\\\Users\\\\yeswa'"
      ]
     },
     "execution_count": 4,
     "metadata": {},
     "output_type": "execute_result"
    }
   ],
   "source": [
    "os.getcwd()"
   ]
  },
  {
   "cell_type": "code",
   "execution_count": 5,
   "id": "cfaf8e5a-e6dd-49e2-b65c-5b318bd4c8d2",
   "metadata": {},
   "outputs": [],
   "source": [
    "os.chdir(\"C:\\\\Users\\\\yeswa\\\\OneDrive\\\\Pictures\\\\Face_Recognization_Photos\\\\Yeshwnath\")"
   ]
  },
  {
   "cell_type": "code",
   "execution_count": 6,
   "id": "edc4dd25-0ccc-4e42-91ba-871ac010c2a8",
   "metadata": {},
   "outputs": [],
   "source": [
    "#below variables are FaceNet related-> FaceNet creates Embedding Vectors of each face detected by MTCNN model.\n",
    "device = torch.device('cuda' if torch.cuda.is_available() else 'cpu')# This makes the enviroment use GPU if exist other wise CPU because of performance.\n",
    "facenet = InceptionResnetV1(pretrained=\"vggface2\").eval().to(device)# creating object for FaceNet Model.\n",
    "mtcnn = MTCNN(keep_all=True,device=device)# Creating object for MTCNN model."
   ]
  },
  {
   "cell_type": "code",
   "execution_count": 7,
   "id": "2b0d1d7c-7bc4-4f65-9322-b7a16d90ee8f",
   "metadata": {},
   "outputs": [],
   "source": [
    "folder_path = \"C:\\\\Users\\\\yeswa\\\\OneDrive\\\\Pictures\\\\Face_Recognization_Photos\\\\Yeshwnath\"\n",
    "def get_known_embedding(path):\n",
    "    embedding_dict = {}\n",
    "    for folder_path in os.listdir(path):\n",
    "        images_path = os.path.join(path,folder_path)\n",
    "        bgr_images = cv2.imread(images_path)\n",
    "        if bgr_images is None:\n",
    "            print(\"error to fetch frames\",{images_path})\n",
    "            continue\n",
    "        rgb_faces = cv2.cvtColor(bgr_images,cv2.COLOR_BGR2RGB)\n",
    "        img_pil = Image.fromarray(rgb_faces)\n",
    "        detect_faces = mtcnn(img_pil)\n",
    "        if detect_faces is None:\n",
    "            print(\"No Face is Detected:\",{images_path})\n",
    "            continue\n",
    "        if detect_faces.ndim==3:\n",
    "            batch_tensor = detect_faces.unsqueeze(0).to(device)\n",
    "        else:\n",
    "            batch_tensor = detect_faces.to(device)\n",
    "        embedding = facenet(batch_tensor).detach().cpu().squeeze(0)\n",
    "    return embedding"
   ]
  },
  {
   "cell_type": "code",
   "execution_count": 8,
   "id": "dfa3fa66-e1c9-4843-84e9-ead23c0e5c89",
   "metadata": {},
   "outputs": [
    {
     "data": {
      "text/plain": [
       "tensor([ 1.1934e-02, -9.0208e-04, -4.6704e-02,  3.0958e-02,  4.1157e-03,\n",
       "         3.7655e-02,  5.6587e-02,  5.4107e-02, -1.4423e-02,  1.2453e-02,\n",
       "        -1.9306e-02, -6.4029e-03, -6.1888e-02, -1.2130e-03, -8.9265e-03,\n",
       "         1.5313e-02,  4.5176e-02,  5.0795e-02,  4.5453e-03,  4.0759e-03,\n",
       "        -5.6188e-03, -5.2012e-03,  9.4744e-03, -3.1029e-02,  6.1819e-03,\n",
       "         7.9293e-03,  2.3836e-02,  1.0526e-02,  2.3628e-02, -5.7807e-02,\n",
       "        -1.8780e-02,  3.3934e-02, -5.5936e-02,  6.9764e-02, -3.6331e-02,\n",
       "         3.0756e-02, -5.8294e-02, -2.2129e-02, -2.2624e-02,  3.1380e-02,\n",
       "         6.2032e-02, -3.7578e-02,  4.8310e-03,  2.3327e-02, -8.5855e-03,\n",
       "        -1.8994e-02, -4.9212e-02,  2.7319e-02, -3.4050e-02, -8.7336e-03,\n",
       "        -3.5678e-03, -1.5571e-02,  1.0256e-01,  4.9071e-02, -4.2501e-02,\n",
       "        -6.8495e-03, -1.6458e-02,  7.1385e-03,  4.5265e-02, -3.9048e-02,\n",
       "        -2.0623e-02,  2.5057e-02,  7.6368e-03,  4.2826e-02, -3.6992e-03,\n",
       "        -2.1826e-02, -4.2928e-02, -2.2712e-02, -1.9581e-02, -2.6185e-02,\n",
       "        -7.1183e-02, -8.1240e-02,  2.9397e-02, -2.9908e-02,  2.3795e-02,\n",
       "         3.2014e-02, -1.4466e-02, -9.9766e-03, -4.7605e-02, -6.9422e-02,\n",
       "        -9.6168e-04,  1.1517e-02, -9.5850e-02,  9.1168e-03,  2.9349e-02,\n",
       "         4.7603e-02,  1.3830e-02, -5.0861e-02, -3.0144e-02, -8.3382e-03,\n",
       "        -1.4236e-02,  3.5104e-02, -2.1760e-02, -3.2013e-02,  6.6870e-02,\n",
       "         1.5955e-02, -4.6060e-02, -2.7239e-02, -7.7377e-02,  3.9314e-02,\n",
       "         4.0835e-02,  2.4795e-02, -1.6060e-02, -5.0903e-03, -1.9857e-02,\n",
       "        -3.3197e-02,  3.7883e-02,  2.7622e-02, -2.8408e-02, -2.5031e-03,\n",
       "        -6.0732e-03, -4.2373e-02, -3.9591e-03, -4.2266e-02, -6.2820e-02,\n",
       "        -5.7277e-02, -8.9453e-02,  2.3188e-02, -8.4266e-02, -1.0442e-02,\n",
       "        -1.1479e-02,  1.3284e-05,  1.0855e-02, -1.7083e-03, -8.2089e-02,\n",
       "        -9.3231e-02,  6.2273e-02,  1.3264e-02, -4.6527e-03,  2.7852e-03,\n",
       "        -1.0191e-01, -4.6213e-02, -6.8502e-03, -2.9099e-02, -3.3348e-03,\n",
       "         8.3401e-02,  9.4800e-02, -3.5858e-02, -2.2120e-02,  5.9349e-02,\n",
       "         6.7339e-02, -3.6366e-02,  2.3698e-03,  3.4332e-02, -2.9892e-02,\n",
       "        -1.1906e-02,  1.0504e-02,  2.8981e-02,  3.6051e-03, -1.4088e-02,\n",
       "         5.0214e-02,  4.7956e-02, -5.3646e-02, -4.1828e-02,  8.9196e-02,\n",
       "         4.0224e-02, -5.0748e-02,  6.2896e-02,  1.5806e-02,  3.6342e-02,\n",
       "         2.0271e-02,  6.1544e-02,  1.7287e-02,  8.0975e-02, -6.4279e-03,\n",
       "         7.5832e-03, -6.6369e-02,  9.6058e-03, -2.4689e-02,  2.6264e-02,\n",
       "         3.7293e-03,  8.1445e-03,  5.3408e-04,  7.9159e-03,  5.4595e-02,\n",
       "         6.4958e-02, -5.4152e-02,  1.1236e-02, -7.5361e-02,  2.7108e-02,\n",
       "        -7.8725e-02,  6.5813e-02, -2.8612e-02, -2.9583e-02, -2.4457e-02,\n",
       "        -5.3560e-02,  3.9331e-02, -2.8132e-02,  2.9247e-02, -1.2663e-02,\n",
       "         6.9403e-02,  2.4411e-02,  2.7306e-02, -7.9012e-02,  3.0602e-02,\n",
       "        -1.0109e-02, -1.0739e-01, -2.3582e-03, -1.1118e-02, -3.9981e-02,\n",
       "         5.4421e-02,  4.4440e-02,  3.2079e-02, -1.7782e-02,  5.2122e-02,\n",
       "        -1.3136e-02,  1.2565e-02, -2.7000e-02,  6.5582e-03,  3.6737e-02,\n",
       "         2.5199e-02, -1.7986e-02,  4.5799e-04,  3.2063e-03, -4.5135e-02,\n",
       "        -1.5723e-02,  6.6750e-03,  2.1614e-03, -2.1555e-02,  7.0158e-03,\n",
       "         8.1409e-02,  8.7951e-03,  5.1986e-02,  4.9021e-02,  3.3336e-02,\n",
       "        -3.8620e-03,  4.0128e-02, -3.9487e-03, -7.6435e-02,  2.0587e-02,\n",
       "        -2.8681e-02,  1.8733e-02, -2.2982e-02, -4.0811e-02, -3.0578e-02,\n",
       "        -4.4133e-03,  3.4814e-02, -1.8874e-02, -1.8985e-02,  1.8504e-02,\n",
       "        -7.9830e-02, -7.1784e-02, -4.5933e-02,  2.1949e-02,  3.3083e-02,\n",
       "         4.0801e-02,  8.7724e-03, -6.9717e-02,  2.8971e-02,  6.6566e-02,\n",
       "        -4.8053e-02,  4.0585e-02,  2.3975e-02,  6.2318e-03, -7.8594e-03,\n",
       "         1.9332e-02, -3.5012e-02,  2.3427e-02, -3.7730e-02,  4.6779e-02,\n",
       "         3.2726e-03,  6.7509e-02,  1.6885e-02, -9.7296e-03, -3.3727e-02,\n",
       "        -6.4776e-02, -2.3040e-02, -9.6531e-02, -5.5007e-02, -3.6451e-02,\n",
       "        -2.0383e-02, -4.7714e-02, -3.9150e-02,  5.0118e-03,  5.1234e-02,\n",
       "         3.6663e-02, -9.7057e-02, -7.4478e-02, -9.1229e-03,  8.1965e-02,\n",
       "        -2.2550e-02,  4.2721e-02, -4.2329e-02, -2.7502e-02, -9.0838e-02,\n",
       "         3.9620e-02, -1.7813e-02,  5.2337e-02,  3.0580e-02,  4.5302e-02,\n",
       "         2.3319e-02,  2.4542e-02,  5.7333e-02, -2.0765e-02,  4.2352e-02,\n",
       "        -7.3142e-02,  3.5755e-02, -1.2536e-02, -3.6682e-02, -2.7912e-02,\n",
       "        -3.8644e-02,  1.2337e-02, -3.2573e-02, -6.4443e-03,  2.3242e-02,\n",
       "         2.2760e-02, -1.4364e-02,  9.0744e-03,  4.0076e-02, -6.4410e-02,\n",
       "        -5.5909e-02, -7.9714e-03, -5.9443e-02, -3.5414e-03,  3.8909e-02,\n",
       "         1.8236e-02,  8.8610e-02, -2.3319e-02,  1.1437e-01, -7.6202e-02,\n",
       "         2.6751e-02, -4.0705e-03, -7.1666e-03, -3.4107e-02,  3.3767e-02,\n",
       "         3.0080e-02, -9.7292e-03,  3.3656e-02, -7.7782e-02, -1.2583e-02,\n",
       "        -4.3349e-02,  3.6395e-02, -3.4210e-02,  3.4424e-02,  4.2200e-02,\n",
       "         7.9198e-02,  6.4932e-02, -2.0282e-02, -4.5081e-02, -8.8562e-02,\n",
       "        -6.1965e-02,  1.2023e-02,  1.0828e-01, -3.6614e-02, -1.4800e-02,\n",
       "        -1.5986e-02,  7.0929e-02,  6.0661e-02, -6.2927e-02,  3.9751e-02,\n",
       "        -5.3515e-02,  6.3774e-02, -2.9588e-02, -1.0456e-02,  5.0768e-03,\n",
       "        -1.8307e-02,  4.0868e-02,  1.6108e-03,  2.5741e-02,  5.1426e-03,\n",
       "         4.5955e-02, -1.3652e-03,  3.5156e-02,  1.1842e-02, -1.0361e-02,\n",
       "         8.6275e-02,  7.6801e-03,  5.3834e-02,  5.2992e-02, -9.9018e-02,\n",
       "         2.2484e-03, -2.3508e-03,  5.5687e-02,  5.8915e-02, -8.2095e-02,\n",
       "         4.9067e-02, -4.8569e-02,  8.1125e-02, -1.7196e-02, -6.7622e-02,\n",
       "        -5.0878e-03,  4.6620e-02, -6.6621e-03,  2.4144e-02,  4.4323e-02,\n",
       "        -3.4603e-02, -9.6633e-03,  5.6722e-02, -7.4331e-03, -2.9328e-02,\n",
       "         6.3375e-02,  8.8086e-03, -7.0685e-03, -1.0402e-03, -8.4331e-02,\n",
       "        -5.5343e-02, -9.9955e-02, -8.4953e-03, -3.1523e-03, -6.4899e-03,\n",
       "         1.8518e-02, -4.1865e-02, -4.8948e-02, -2.1935e-02, -3.7885e-03,\n",
       "         6.9606e-02,  1.0922e-02, -1.3170e-02,  1.0506e-01,  5.5837e-03,\n",
       "         2.9116e-02,  7.3836e-02,  7.8659e-03, -5.5567e-02, -1.0169e-02,\n",
       "        -6.3603e-02, -1.7090e-02, -8.1185e-02, -1.9588e-02, -3.9143e-02,\n",
       "         4.7353e-02, -1.3184e-02, -1.3486e-02, -7.1734e-03,  1.7528e-02,\n",
       "        -3.6309e-02,  6.5881e-02, -2.5680e-02,  7.3969e-02, -3.8286e-02,\n",
       "        -5.1564e-02, -1.9143e-02,  2.9904e-02, -1.1272e-01,  6.9605e-02,\n",
       "        -3.6569e-02, -3.2889e-02, -1.0036e-01,  2.3769e-02, -9.9993e-02,\n",
       "        -4.7680e-02,  5.0138e-02, -3.2630e-02,  4.8033e-02, -7.3019e-02,\n",
       "        -2.7819e-02, -8.3285e-03,  7.7003e-02, -4.9338e-02, -2.6409e-02,\n",
       "        -1.9477e-03, -4.1764e-02, -4.6274e-02, -2.7107e-02, -2.4552e-02,\n",
       "        -1.2479e-02, -1.6086e-02,  4.8309e-02,  7.1870e-02,  3.2884e-02,\n",
       "         4.2136e-02,  1.6775e-01,  3.6097e-02,  3.1603e-02, -7.0058e-03,\n",
       "         8.1828e-02,  3.4266e-02, -3.4203e-02,  2.8410e-02,  1.1694e-02,\n",
       "        -1.0209e-02, -5.8362e-02,  3.0115e-03, -1.3768e-02,  5.9850e-03,\n",
       "         3.6768e-02,  7.4963e-03,  1.4514e-01, -4.9312e-03, -1.0629e-01,\n",
       "         2.2255e-02, -6.2526e-02, -4.6633e-03, -7.0286e-03, -2.6086e-02,\n",
       "        -1.1442e-02, -4.3634e-02,  3.0785e-02, -5.7282e-02, -2.8889e-02,\n",
       "         1.8354e-02, -7.9749e-02,  2.7204e-02, -1.8312e-02, -3.6399e-02,\n",
       "        -4.2659e-02, -3.7070e-02, -3.6664e-02,  5.3516e-02,  8.9226e-03,\n",
       "        -3.3375e-02,  5.9490e-03,  2.8859e-04,  2.4372e-02, -8.9009e-03,\n",
       "        -1.2649e-02,  4.6881e-02,  1.5652e-02, -5.0240e-02, -8.4246e-02,\n",
       "        -6.8670e-02,  2.5970e-02])"
      ]
     },
     "execution_count": 8,
     "metadata": {},
     "output_type": "execute_result"
    }
   ],
   "source": [
    "known_faces = get_known_embedding(folder_path)\n",
    "known_faces"
   ]
  },
  {
   "cell_type": "code",
   "execution_count": 9,
   "id": "6c8024cc-d24f-41e7-91df-8abce5cfe45e",
   "metadata": {},
   "outputs": [
    {
     "name": "stdout",
     "output_type": "stream",
     "text": [
      "Known person\n",
      "Known person\n",
      "Known person\n",
      "Known person\n",
      "Known person\n",
      "Known person\n",
      "Known person\n",
      "unknown person\n",
      "unknown person\n",
      "unknown person\n",
      "unknown person\n",
      "unknown person\n",
      "unknown person\n",
      "unknown person\n",
      "unknown person\n",
      "unknown person\n",
      "Known person\n"
     ]
    }
   ],
   "source": [
    "# below code is read frames of webcam\n",
    "cap = cv2.VideoCapture(0) # initate the webcam\n",
    "while True: # if flow is true then go inside the loop\n",
    "    ret,frame = cap.read() # ret->True/Fasle of VideoCapturing if capturing True not capturing False\n",
    "    if not ret: #condition on frames are getting or not.\n",
    "        break # if condition true then break flow here itself.\n",
    "    boxes,prob = mtcnn.detect(frame)# Detects faces from CC Camera and shows green box around face->box,prob->indicates accuracy of face >=95 then it is face.\n",
    "    if boxes is not None:\n",
    "        for box in boxes:\n",
    "            x1,y1,x2,y2 = [int(coord) for coord in box]\n",
    "            cv2.rectangle(frame,(x1,y1),(x2,y2),(0,255,0),2)\n",
    "            # Above loop and two lines are going to display green line around the face lively.\n",
    "            face = frame[y1:y2,x1:x2]# This variable consist of that face numerical vector\n",
    "            face_tensor = mtcnn(frame)\n",
    "            if face_tensor is None:\n",
    "                continue\n",
    "            if len(face_tensor.shape) == 3:\n",
    "                batch_face = face_tensor.unsqueeze(0).to(device)\n",
    "            else:\n",
    "                batch_face = face_tensor.to(device)\n",
    "            live_embeddings = facenet(batch_face).detach().cpu().squeeze(0)\n",
    "            distance = euclidean(known_faces.numpy(),live_embeddings.numpy())\n",
    "            if distance<0.8:\n",
    "                print(\"Known person\")\n",
    "            elif distance>=1.0:\n",
    "                print(\"unknown person\")\n",
    "    cv2.imshow(\"Frame\",frame)# Display the image from vectors.\n",
    "    if cv2.waitKey(1) & 0xFF == ord('q'):\n",
    "        break\n",
    "cap.release()\n",
    "cv2.destroyAllWindows()"
   ]
  },
  {
   "cell_type": "code",
   "execution_count": null,
   "id": "389a7416-c429-4db7-83e9-26faa6559fdf",
   "metadata": {},
   "outputs": [],
   "source": []
  },
  {
   "cell_type": "code",
   "execution_count": null,
   "id": "ad741580-d5f8-46da-b447-10f601868bf7",
   "metadata": {},
   "outputs": [],
   "source": []
  }
 ],
 "metadata": {
  "kernelspec": {
   "display_name": "Python 3 (ipykernel)",
   "language": "python",
   "name": "python3"
  },
  "language_info": {
   "codemirror_mode": {
    "name": "ipython",
    "version": 3
   },
   "file_extension": ".py",
   "mimetype": "text/x-python",
   "name": "python",
   "nbconvert_exporter": "python",
   "pygments_lexer": "ipython3",
   "version": "3.12.4"
  }
 },
 "nbformat": 4,
 "nbformat_minor": 5
}
